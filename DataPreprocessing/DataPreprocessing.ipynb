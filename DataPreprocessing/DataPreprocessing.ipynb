{
 "cells": [
  {
   "cell_type": "code",
   "execution_count": 17,
   "metadata": {},
   "outputs": [],
   "source": [
    "import numpy as np\n",
    "import pandas as pd"
   ]
  },
  {
   "cell_type": "code",
   "execution_count": 36,
   "metadata": {},
   "outputs": [
    {
     "name": "stdout",
     "output_type": "stream",
     "text": [
      "         Date   Open   High    Low  Close      Volume\n",
      "0  2004-01-30  36.66  39.00  36.22  37.07  1759300400\n",
      "1  2004-02-27  37.20  37.97  36.10  36.57  1728110800\n",
      "2  2004-03-31  36.68  37.18  34.01  35.84  2509465300\n",
      "3  2004-04-30  35.81  37.50  34.72  34.77  2211173100\n",
      "4  2004-05-28  35.00  36.55  34.11  36.55  2429662200\n"
     ]
    }
   ],
   "source": [
    "file_path = '/Users/tanujdeshmukh/Desktop/Georgia Tech/Fall 2024/NonParametricDataAnalysis/Project/DataCollection/combined_stock_data_last_20_years.csv'\n",
    "df = pd.read_csv(file_path)\n",
    "df.rename(columns={'Symbol': 'Company Name'}, inplace=True)\n",
    "print(df.head())\n"
   ]
  },
  {
   "cell_type": "code",
   "execution_count": 37,
   "metadata": {},
   "outputs": [
    {
     "data": {
      "text/html": [
       "<div>\n",
       "<style scoped>\n",
       "    .dataframe tbody tr th:only-of-type {\n",
       "        vertical-align: middle;\n",
       "    }\n",
       "\n",
       "    .dataframe tbody tr th {\n",
       "        vertical-align: top;\n",
       "    }\n",
       "\n",
       "    .dataframe thead th {\n",
       "        text-align: right;\n",
       "    }\n",
       "</style>\n",
       "<table border=\"1\" class=\"dataframe\">\n",
       "  <thead>\n",
       "    <tr style=\"text-align: right;\">\n",
       "      <th></th>\n",
       "      <th>Date</th>\n",
       "      <th>Open</th>\n",
       "      <th>High</th>\n",
       "      <th>Low</th>\n",
       "      <th>Close</th>\n",
       "      <th>Volume</th>\n",
       "    </tr>\n",
       "  </thead>\n",
       "  <tbody>\n",
       "    <tr>\n",
       "      <th>0</th>\n",
       "      <td>2004-01-30</td>\n",
       "      <td>36.66</td>\n",
       "      <td>39.00</td>\n",
       "      <td>36.2200</td>\n",
       "      <td>37.07</td>\n",
       "      <td>1759300400</td>\n",
       "    </tr>\n",
       "    <tr>\n",
       "      <th>1</th>\n",
       "      <td>2004-02-27</td>\n",
       "      <td>37.20</td>\n",
       "      <td>37.97</td>\n",
       "      <td>36.1000</td>\n",
       "      <td>36.57</td>\n",
       "      <td>1728110800</td>\n",
       "    </tr>\n",
       "    <tr>\n",
       "      <th>2</th>\n",
       "      <td>2004-03-31</td>\n",
       "      <td>36.68</td>\n",
       "      <td>37.18</td>\n",
       "      <td>34.0100</td>\n",
       "      <td>35.84</td>\n",
       "      <td>2509465300</td>\n",
       "    </tr>\n",
       "    <tr>\n",
       "      <th>3</th>\n",
       "      <td>2004-04-30</td>\n",
       "      <td>35.81</td>\n",
       "      <td>37.50</td>\n",
       "      <td>34.7200</td>\n",
       "      <td>34.77</td>\n",
       "      <td>2211173100</td>\n",
       "    </tr>\n",
       "    <tr>\n",
       "      <th>4</th>\n",
       "      <td>2004-05-28</td>\n",
       "      <td>35.00</td>\n",
       "      <td>36.55</td>\n",
       "      <td>34.1100</td>\n",
       "      <td>36.55</td>\n",
       "      <td>2429662200</td>\n",
       "    </tr>\n",
       "    <tr>\n",
       "      <th>...</th>\n",
       "      <td>...</td>\n",
       "      <td>...</td>\n",
       "      <td>...</td>\n",
       "      <td>...</td>\n",
       "      <td>...</td>\n",
       "      <td>...</td>\n",
       "    </tr>\n",
       "    <tr>\n",
       "      <th>247</th>\n",
       "      <td>2024-08-30</td>\n",
       "      <td>471.76</td>\n",
       "      <td>485.54</td>\n",
       "      <td>423.4500</td>\n",
       "      <td>476.27</td>\n",
       "      <td>908585535</td>\n",
       "    </tr>\n",
       "    <tr>\n",
       "      <th>248</th>\n",
       "      <td>2024-09-30</td>\n",
       "      <td>473.20</td>\n",
       "      <td>493.70</td>\n",
       "      <td>448.1900</td>\n",
       "      <td>488.07</td>\n",
       "      <td>694549166</td>\n",
       "    </tr>\n",
       "    <tr>\n",
       "      <th>249</th>\n",
       "      <td>2024-10-31</td>\n",
       "      <td>487.70</td>\n",
       "      <td>501.35</td>\n",
       "      <td>477.4000</td>\n",
       "      <td>483.85</td>\n",
       "      <td>660234819</td>\n",
       "    </tr>\n",
       "    <tr>\n",
       "      <th>250</th>\n",
       "      <td>2024-11-29</td>\n",
       "      <td>485.50</td>\n",
       "      <td>515.58</td>\n",
       "      <td>484.2545</td>\n",
       "      <td>509.74</td>\n",
       "      <td>567729700</td>\n",
       "    </tr>\n",
       "    <tr>\n",
       "      <th>251</th>\n",
       "      <td>2024-12-03</td>\n",
       "      <td>511.01</td>\n",
       "      <td>517.15</td>\n",
       "      <td>510.6200</td>\n",
       "      <td>516.87</td>\n",
       "      <td>43745065</td>\n",
       "    </tr>\n",
       "  </tbody>\n",
       "</table>\n",
       "<p>252 rows × 6 columns</p>\n",
       "</div>"
      ],
      "text/plain": [
       "           Date    Open    High       Low   Close      Volume\n",
       "0    2004-01-30   36.66   39.00   36.2200   37.07  1759300400\n",
       "1    2004-02-27   37.20   37.97   36.1000   36.57  1728110800\n",
       "2    2004-03-31   36.68   37.18   34.0100   35.84  2509465300\n",
       "3    2004-04-30   35.81   37.50   34.7200   34.77  2211173100\n",
       "4    2004-05-28   35.00   36.55   34.1100   36.55  2429662200\n",
       "..          ...     ...     ...       ...     ...         ...\n",
       "247  2024-08-30  471.76  485.54  423.4500  476.27   908585535\n",
       "248  2024-09-30  473.20  493.70  448.1900  488.07   694549166\n",
       "249  2024-10-31  487.70  501.35  477.4000  483.85   660234819\n",
       "250  2024-11-29  485.50  515.58  484.2545  509.74   567729700\n",
       "251  2024-12-03  511.01  517.15  510.6200  516.87    43745065\n",
       "\n",
       "[252 rows x 6 columns]"
      ]
     },
     "execution_count": 37,
     "metadata": {},
     "output_type": "execute_result"
    }
   ],
   "source": [
    "def access_global_dataframe():\n",
    "    return df\n",
    "# Call the function to test global access\n",
    "access_global_dataframe()"
   ]
  },
  {
   "cell_type": "markdown",
   "metadata": {},
   "source": [
    "#### Calculating Log Normal Return"
   ]
  },
  {
   "cell_type": "code",
   "execution_count": 38,
   "metadata": {},
   "outputs": [
    {
     "name": "stdout",
     "output_type": "stream",
     "text": [
      "          Date    Open    High       Low   Close      Volume  Log Return\n",
      "0   2004-01-30   36.66   39.00   36.2200   37.07  1759300400         NaN\n",
      "1   2004-02-27   37.20   37.97   36.1000   36.57  1728110800   -0.013580\n",
      "2   2004-03-31   36.68   37.18   34.0100   35.84  2509465300   -0.020164\n",
      "3   2004-04-30   35.81   37.50   34.7200   34.77  2211173100   -0.030310\n",
      "4   2004-05-28   35.00   36.55   34.1100   36.55  2429662200    0.049926\n",
      "..         ...     ...     ...       ...     ...         ...         ...\n",
      "247 2024-08-30  471.76  485.54  423.4500  476.27   908585535    0.010978\n",
      "248 2024-09-30  473.20  493.70  448.1900  488.07   694549166    0.024474\n",
      "249 2024-10-31  487.70  501.35  477.4000  483.85   660234819   -0.008684\n",
      "250 2024-11-29  485.50  515.58  484.2545  509.74   567729700    0.052126\n",
      "251 2024-12-03  511.01  517.15  510.6200  516.87    43745065    0.013891\n",
      "\n",
      "[252 rows x 7 columns]\n"
     ]
    }
   ],
   "source": [
    "df['Date'] = pd.to_datetime(df['Date'])  # Convert to datetime for sorting\n",
    "df.sort_values(by='Date', inplace=True)\n",
    "# Calculate log-normal returns\n",
    "df['Log Return'] = np.log(df['Close'] / df['Close'].shift(1))\n",
    "# Display the DataFrame with the new column\n",
    "print(df)\n",
    "df.dropna(subset=['Log Return'], inplace=True)"
   ]
  }
 ],
 "metadata": {
  "kernelspec": {
   "display_name": ".venv",
   "language": "python",
   "name": "python3"
  },
  "language_info": {
   "codemirror_mode": {
    "name": "ipython",
    "version": 3
   },
   "file_extension": ".py",
   "mimetype": "text/x-python",
   "name": "python",
   "nbconvert_exporter": "python",
   "pygments_lexer": "ipython3",
   "version": "3.9.6"
  }
 },
 "nbformat": 4,
 "nbformat_minor": 2
}
