{
 "cells": [
  {
   "cell_type": "code",
   "execution_count": 1,
   "metadata": {},
   "outputs": [
    {
     "name": "stdout",
     "output_type": "stream",
     "text": [
      "Collecting requests\n",
      "  Downloading requests-2.32.3-py3-none-any.whl.metadata (4.6 kB)\n",
      "Collecting charset-normalizer<4,>=2 (from requests)\n",
      "  Downloading charset_normalizer-3.4.0-cp39-cp39-macosx_11_0_arm64.whl.metadata (34 kB)\n",
      "Collecting idna<4,>=2.5 (from requests)\n",
      "  Downloading idna-3.10-py3-none-any.whl.metadata (10 kB)\n",
      "Collecting urllib3<3,>=1.21.1 (from requests)\n",
      "  Downloading urllib3-2.2.3-py3-none-any.whl.metadata (6.5 kB)\n",
      "Collecting certifi>=2017.4.17 (from requests)\n",
      "  Downloading certifi-2024.8.30-py3-none-any.whl.metadata (2.2 kB)\n",
      "Downloading requests-2.32.3-py3-none-any.whl (64 kB)\n",
      "Downloading certifi-2024.8.30-py3-none-any.whl (167 kB)\n",
      "Downloading charset_normalizer-3.4.0-cp39-cp39-macosx_11_0_arm64.whl (120 kB)\n",
      "Downloading idna-3.10-py3-none-any.whl (70 kB)\n",
      "Downloading urllib3-2.2.3-py3-none-any.whl (126 kB)\n",
      "Installing collected packages: urllib3, idna, charset-normalizer, certifi, requests\n",
      "Successfully installed certifi-2024.8.30 charset-normalizer-3.4.0 idna-3.10 requests-2.32.3 urllib3-2.2.3\n",
      "Note: you may need to restart the kernel to use updated packages.\n"
     ]
    }
   ],
   "source": [
    "pip install requests"
   ]
  },
  {
   "cell_type": "code",
   "execution_count": 1,
   "metadata": {},
   "outputs": [
    {
     "name": "stderr",
     "output_type": "stream",
     "text": [
      "/Users/tanujdeshmukh/Desktop/Georgia Tech/Fall 2024/NonParametricDataAnalysis/Project/.venv/lib/python3.9/site-packages/urllib3/__init__.py:35: NotOpenSSLWarning: urllib3 v2 only supports OpenSSL 1.1.1+, currently the 'ssl' module is compiled with 'LibreSSL 2.8.3'. See: https://github.com/urllib3/urllib3/issues/3020\n",
      "  warnings.warn(\n"
     ]
    }
   ],
   "source": [
    "import requests\n",
    "from datetime import datetime\n",
    "import csv"
   ]
  },
  {
   "cell_type": "code",
   "execution_count": 2,
   "metadata": {},
   "outputs": [],
   "source": [
    "def fetch_monthly_data(symbol, api_key):\n",
    "    url = f'https://www.alphavantage.co/query?function=TIME_SERIES_MONTHLY&symbol={symbol}&apikey={api_key}'\n",
    "    response = requests.get(url)\n",
    "    data = response.json()\n",
    "\n",
    "    if \"Monthly Time Series\" in data:\n",
    "        return data[\"Monthly Time Series\"]\n",
    "    else:\n",
    "        raise ValueError(f\"Error fetching data for {symbol}: {data.get('Error Message', 'Unknown error')}\")\n"
   ]
  },
  {
   "cell_type": "code",
   "execution_count": 3,
   "metadata": {},
   "outputs": [],
   "source": [
    "def filter_last_x_years(time_series_data,x):\n",
    "    \"\"\"\n",
    "    Filter monthly time series data for the last 20 years.\n",
    "\n",
    "    Args:\n",
    "        time_series_data (dict): Raw time series data from Alpha Vantage.\n",
    "\n",
    "    Returns:\n",
    "        dict: Filtered data for the last 20 years.\n",
    "    \"\"\"\n",
    "    filtered_data = {}\n",
    "    current_year = datetime.now().year\n",
    "\n",
    "    for date, metrics in time_series_data.items():\n",
    "        year = int(date.split(\"-\")[0])\n",
    "        if current_year - x <= year <= current_year:\n",
    "            filtered_data[date] = metrics\n",
    "\n",
    "    return filtered_data\n"
   ]
  },
  {
   "cell_type": "code",
   "execution_count": 4,
   "metadata": {},
   "outputs": [],
   "source": [
    "def save_to_csv(data, filename):\n",
    "    \"\"\"\n",
    "    Save the stock data to a CSV file.\n",
    "\n",
    "    Args:\n",
    "        data (dict): Stock data to save.\n",
    "        filename (str): Name of the CSV file.\n",
    "    \"\"\"\n",
    "    with open(filename, mode='w') as file:\n",
    "        writer = csv.writer(file)\n",
    "        writer.writerow([\"Date\", \"Open\", \"High\", \"Low\", \"Close\", \"Volume\"])\n",
    "        for date, metrics in sorted(data.items()):\n",
    "            writer.writerow([date, metrics['1. open'], metrics['2. high'], metrics['3. low'], metrics['4. close'], metrics['5. volume']])\n",
    "    print(f\"Data saved to {filename}\")\n"
   ]
  },
  {
   "cell_type": "code",
   "execution_count": 8,
   "metadata": {},
   "outputs": [],
   "source": [
    "stock_symbols = [\"^IXIC\"]"
   ]
  },
  {
   "cell_type": "code",
   "execution_count": 9,
   "metadata": {},
   "outputs": [],
   "source": [
    "API_KEY = \"YP0JT6U17TFGVUME\""
   ]
  },
  {
   "cell_type": "code",
   "execution_count": 10,
   "metadata": {},
   "outputs": [
    {
     "name": "stdout",
     "output_type": "stream",
     "text": [
      "Fetching monthly data for SP500INDEX...\n",
      "An error occurred while processing SP500INDEX: Error fetching data for SP500INDEX: Invalid API call. Please retry or visit the documentation (https://www.alphavantage.co/documentation/) for TIME_SERIES_MONTHLY.\n",
      "Fetching monthly data for ^IXIC...\n",
      "An error occurred while processing ^IXIC: Error fetching data for ^IXIC: Unknown error\n"
     ]
    }
   ],
   "source": [
    "for symbol in stock_symbols:\n",
    "    try:\n",
    "        print(f\"Fetching monthly data for {symbol}...\")\n",
    "        monthly_data = fetch_monthly_data(symbol, API_KEY)\n",
    "        last_15_years_data = filter_last_x_years(monthly_data,20)\n",
    "        \n",
    "        # Save to CSV\n",
    "        filename = f\"{symbol}_monthly_last_20_years.csv\"\n",
    "        save_to_csv(last_15_years_data, filename)\n",
    "    \n",
    "    except Exception as e:\n",
    "        print(f\"An error occurred while processing {symbol}: {e}\")"
   ]
  },
  {
   "cell_type": "code",
   "execution_count": 13,
   "metadata": {},
   "outputs": [
    {
     "name": "stdout",
     "output_type": "stream",
     "text": [
      "Combined data saved to combined_stock_data_last_20_years.csv\n"
     ]
    }
   ],
   "source": [
    "def save_combined_csv(stock_data_list, symbols, filename):\n",
    "    \"\"\"\n",
    "    Save combined stock data for multiple symbols into a single CSV.\n",
    "\n",
    "    Args:\n",
    "        stock_data_list (list): List of stock data dicts.\n",
    "        symbols (list): List of stock symbols.\n",
    "        filename (str): Name of the CSV file.\n",
    "    \"\"\"\n",
    "    with open(filename, mode='w') as file:\n",
    "        writer = csv.writer(file)\n",
    "        writer.writerow([\"Symbol\", \"Date\", \"Open\", \"High\", \"Low\", \"Close\", \"Volume\"])\n",
    "        for symbol, data in zip(symbols, stock_data_list):\n",
    "            for date, metrics in sorted(data.items()):\n",
    "                writer.writerow([symbol, date, metrics['1. open'], metrics['2. high'], metrics['3. low'], metrics['4. close'], metrics['5. volume']])\n",
    "    print(f\"Combined data saved to {filename}\")\n",
    "\n",
    "# Combine and save all stock data\n",
    "all_data = [filter_last_x_years(fetch_monthly_data(symbol, API_KEY),20) for symbol in stock_symbols]\n",
    "save_combined_csv(all_data, stock_symbols, \"combined_stock_data_last_20_years.csv\")\n"
   ]
  }
 ],
 "metadata": {
  "kernelspec": {
   "display_name": ".venv",
   "language": "python",
   "name": "python3"
  },
  "language_info": {
   "codemirror_mode": {
    "name": "ipython",
    "version": 3
   },
   "file_extension": ".py",
   "mimetype": "text/x-python",
   "name": "python",
   "nbconvert_exporter": "python",
   "pygments_lexer": "ipython3",
   "version": "3.9.6"
  }
 },
 "nbformat": 4,
 "nbformat_minor": 2
}
